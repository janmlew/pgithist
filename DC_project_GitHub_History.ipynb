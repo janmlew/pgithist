{
  "cells": [
    {
      "cell_type": "markdown",
      "metadata": {
        "id": "view-in-github",
        "colab_type": "text"
      },
      "source": [
        "<a href=\"https://colab.research.google.com/github/janmlew/pgithist/blob/main/DC_project_GitHub_History.ipynb\" target=\"_parent\"><img src=\"https://colab.research.google.com/assets/colab-badge.svg\" alt=\"Open In Colab\"/></a>"
      ]
    },
    {
      "cell_type": "markdown",
      "metadata": {
        "id": "KHCwX5f_dc68"
      },
      "source": [
        "Uwaga! Kod poniżej to jeden z projektów DataCamp (edytowany częściowo przez [Spyder](https://www.spyder-ide.org/), a później w Colabie)."
      ]
    },
    {
      "cell_type": "markdown",
      "metadata": {
        "id": "roRrayu5p0jy"
      },
      "source": [
        "Import bibliotek."
      ]
    },
    {
      "cell_type": "code",
      "execution_count": null,
      "metadata": {
        "id": "I3anPgYLoZ8S"
      },
      "outputs": [],
      "source": [
        "import pandas as pd"
      ]
    },
    {
      "cell_type": "markdown",
      "metadata": {
        "id": "fu9UC9IpqB0N"
      },
      "source": [
        "Import danych z plików."
      ]
    },
    {
      "cell_type": "code",
      "execution_count": null,
      "metadata": {
        "id": "1AlpmrtIp9qZ"
      },
      "outputs": [],
      "source": [
        "PATH = '/content/drive/MyDrive/Colab Notebooks/Project/datasets/'\n",
        "\n",
        "pulls_one = pd.read_csv(PATH+'pulls_2011-2013.csv')\n",
        "pulls_two = pd.read_csv(PATH+'pulls_2014-2018.csv')\n",
        "pull_files = pd.read_csv(PATH+'pull_files.csv')"
      ]
    },
    {
      "cell_type": "markdown",
      "metadata": {
        "id": "iqcMGKh7qNPu"
      },
      "source": [
        "<p>Przygotowywanie danych, w tym łączenie danych z dwóch źródeł do jednego DataFrame.</p><p>\n",
        "Następnie przystąpimy do konwersji danych w importowanych jako string do formatu datetime, a potem zmienimy format dat z czasu lokalnego do UTC.</p>"
      ]
    },
    {
      "cell_type": "code",
      "execution_count": null,
      "metadata": {
        "id": "0TJKrMAnqTcN"
      },
      "outputs": [],
      "source": [
        "pulls = pd.concat([pulls_one, pulls_two], ignore_index=True)\n",
        "pulls['date'] = pd.to_datetime(pulls['date'], utc=True)"
      ]
    },
    {
      "cell_type": "markdown",
      "metadata": {
        "id": "OKqAHQoaWncg"
      },
      "source": [
        "<p>Łączenie dwóch DF.</p>\n",
        "<p>Ale uwaga: <b>Co zawierają oba DataFrame'y?</b> Nie zostało to explicite ujęte w warunkach zadania, ale nie sądzę, że powinienem traktować swoją naukę jako prostą iterację zadań.</p>\n",
        "<p>Muszę to koniecznie sprawdzić.)</p>\n",
        "<p>Sprawdziłem :).</p>"
      ]
    },
    {
      "cell_type": "code",
      "execution_count": null,
      "metadata": {
        "id": "fB3h6Z9TW4-D"
      },
      "outputs": [],
      "source": [
        "data = pulls.merge(pull_files, on='pid')"
      ]
    },
    {
      "cell_type": "markdown",
      "metadata": {
        "id": "_rYywcwSXBrn"
      },
      "source": [
        "In order to check whether Scala is still mantained, we want to plot a chart of its use through time. Let's do this."
      ]
    },
    {
      "cell_type": "code",
      "execution_count": null,
      "metadata": {
        "colab": {
          "base_uri": "https://localhost:8080/",
          "height": 349
        },
        "id": "d9UeMZDCXDTM",
        "outputId": "ea01f2ed-8603-4e3d-cdcd-8ac20dcd8800"
      },
      "outputs": [
        {
          "output_type": "execute_result",
          "data": {
            "text/plain": [
              "<matplotlib.axes._subplots.AxesSubplot at 0x7fc11e61ccd0>"
            ]
          },
          "metadata": {},
          "execution_count": 5
        },
        {
          "output_type": "display_data",
          "data": {
            "text/plain": [
              "<Figure size 864x288 with 1 Axes>"
            ],
            "image/png": "[encoded data removed]"
          },
          "metadata": {
            "needs_background": "light"
          }
        }
      ],
      "source": [
        "#%matplotlib inline\n",
        "\n",
        "data['month'] = data['date'].dt.month\n",
        "data['year'] = data['date'].dt.year\n",
        "\n",
        "counts = data.groupby(['year', 'month'])['pid'].sum()\n",
        "counts.plot(kind='bar', figsize=(12,4))"
      ]
    },
    {
      "cell_type": "markdown",
      "metadata": {
        "id": "mkP5wWWgZ4pD"
      },
      "source": [
        "By using a chart, we want to see how large is the base of contributors who pull many requests / contribute much to the project."
      ]
    },
    {
      "cell_type": "code",
      "execution_count": null,
      "metadata": {
        "colab": {
          "base_uri": "https://localhost:8080/",
          "height": 295
        },
        "id": "uQJDFM78Z3DX",
        "outputId": "1ebb0826-5173-4d5e-8d0b-b95778ff9744"
      },
      "outputs": [
        {
          "output_type": "execute_result",
          "data": {
            "text/plain": [
              "<matplotlib.axes._subplots.AxesSubplot at 0x7fc11e472f40>"
            ]
          },
          "metadata": {},
          "execution_count": 6
        },
        {
          "output_type": "display_data",
          "data": {
            "text/plain": [
              "<Figure size 432x288 with 1 Axes>"
            ],
            "image/png": "[encoded data removed]"
          },
          "metadata": {
            "needs_background": "light"
          }
        }
      ],
      "source": [
        "#%matplotlib inline\n",
        "\n",
        "by_user = data.groupby('user')['pid'].sum()\n",
        "by_user.plot(kind='hist')"
      ]
    },
    {
      "cell_type": "markdown",
      "metadata": {
        "id": "6aNVzPkrXHSI"
      },
      "source": [
        "Identify the last ten files that have changed."
      ]
    },
    {
      "cell_type": "code",
      "execution_count": null,
      "metadata": {
        "colab": {
          "base_uri": "https://localhost:8080/"
        },
        "id": "7gRtyBwTXSp6",
        "outputId": "288d8bcd-3515-44b5-c9b8-e8aa1493a896"
      },
      "outputs": [
        {
          "output_type": "stream",
          "name": "stdout",
          "text": [
            "{'src/compiler/scala/reflect/reify/phases/Calculate.scala', 'src/library/scala/util/Properties.scala', 'src/compiler/scala/tools/nsc/backend/jvm/PostProcessor.scala', 'src/compiler/scala/tools/nsc/profile/Profiler.scala', 'test/files/pos/parallel-classloader.scala', 'test/files/pos/t10568/Converter.java', 'test/files/neg/leibniz-liskov.check', 'src/library/scala/concurrent/Lock.scala', 'src/reflect/scala/reflect/internal/pickling/ByteCodecs.scala', 'test/files/neg/leibniz-liskov.scala', 'test/files/pos/leibniz_liskov.scala', 'src/compiler/scala/tools/nsc/typechecker/Contexts.scala', 'test/files/run/t8348/Test.scala', 'test/files/pos/leibniz-liskov.scala', 'test/files/pos/t9291.scala', 'src/library/scala/Predef.scala', 'src/scalap/decoder.properties', 'src/reflect/scala/reflect/internal/tpe/GlbLubs.scala', 'test/files/pos/t5638/Usage.scala', 'test/files/run/t8348.check', 'test/files/pos/t10686.scala', 'src/compiler/scala/tools/nsc/backend/jvm/BCodeHelpers.scala', 'test/files/run/t8348/TableColumn.java', 'LICENSE', 'test/files/pos/t10568/Impl.scala', 'doc/LICENSE.md', 'src/compiler/scala/tools/nsc/backend/jvm/analysis/BackendUtils.scala', 'project/VersionUtil.scala', 'test/files/pos/t5638/Among.java', 'test/files/run/t8348/TableColumnImpl.java', 'src/scaladoc/scala/tools/nsc/doc/html/page/Entity.scala', 'src/compiler/scala/tools/nsc/symtab/classfile/ClassfileParser.scala', 'doc/License.rtf', 'src/compiler/scala/tools/nsc/profile/AsyncHelper.scala'}\n"
          ]
        }
      ],
      "source": [
        "last_10 = pulls.nlargest(10, 'date')\n",
        "joined_pr = last_10.merge(pull_files, on='pid')\n",
        "files = set(joined_pr['file'])\n",
        "print(files)"
      ]
    },
    {
      "cell_type": "markdown",
      "metadata": {
        "id": "a86YzsQBjv68"
      },
      "source": [
        "We identified src/compiler/scala/reflect/reify/phases/Calculate.scala as being recently changed. We are interested in the top 3 developers who changed that file. Those developers are the ones most likely to have the best understanding of the code."
      ]
    },
    {
      "cell_type": "code",
      "execution_count": null,
      "metadata": {
        "colab": {
          "base_uri": "https://localhost:8080/"
        },
        "id": "jFKaZsx-kOjl",
        "outputId": "2ac43996-e02c-405f-b2a1-310c906c2168"
      },
      "outputs": [
        {
          "output_type": "stream",
          "name": "stdout",
          "text": [
            "user\n",
            "xeno-by     11\n",
            "retronym     5\n",
            "soc          4\n",
            "Name: pid, dtype: int64\n"
          ]
        }
      ],
      "source": [
        "file = 'src/compiler/scala/reflect/reify/phases/Calculate.scala'\n",
        "file_pr = data[data['file']==file]\n",
        "author_counts = file_pr.groupby('user')['pid'].count()\n",
        "print(author_counts.nlargest(3))"
      ]
    },
    {
      "cell_type": "markdown",
      "metadata": {
        "id": "ldbC_NYI9bim"
      },
      "source": [
        "<p>Identify the most recent ten pull requests that touched src/compiler/scala/reflect/reify/phases/Calculate.scala.\n",
        "</p><p>\n",
        "\n",
        "*   Select the pull requests that touched the file and name the resulting DataFrame file_pr.\n",
        "*   Merge file_pr with the pulls DataFrame on the pid column and name the resulting DataFrame joined_pr.\n",
        "*   Using set(), create a set of users for the ten most recent pull requests.</p>\n",
        "<p>\n",
        "To find the ten most recent pull requests, use the nlargest function of a DataFrame. Again, pandas' nlargest method (<a href=\"https://pandas.pydata.org/pandas-docs/version/0.17.0/generated/pandas.DataFrame.nlargest.html\">documentation</a>) may be helpful for this third bullet.</p>"
      ]
    },
    {
      "cell_type": "code",
      "execution_count": null,
      "metadata": {
        "colab": {
          "base_uri": "https://localhost:8080/"
        },
        "id": "rjBEwOR1-eRy",
        "outputId": "ea15501d-df82-4652-9d16-16f7654bb41b"
      },
      "outputs": [
        {
          "output_type": "execute_result",
          "data": {
            "text/plain": [
              "{'bjornregnell', 'retronym', 'soc', 'starblood', 'xeno-by', 'zuvizudar'}"
            ]
          },
          "metadata": {},
          "execution_count": 21
        }
      ],
      "source": [
        "# file = 'src/compiler/scala/reflect/reify/phases/Calculate.scala'\n",
        "\n",
        "# Select the pull requests that changed the target file\n",
        "# file_pr = data[data['file']==file]\n",
        "\n",
        "# Merge the obtained results with the pulls DataFrame\n",
        "joined_pr = file_pr.merge(pulls, on='pid')\n",
        "\n",
        "# Find the users of the last 10 most recent pull requests\n",
        "users_last_10 = set(joined_pr.nlargest(10, 'date_x')['user_x'])\n",
        "\n",
        "# Printing the results\n",
        "users_last_10"
      ]
    },
    {
      "cell_type": "markdown",
      "source": [
        "Plot the number of pull requests for two developers, over time.\n",
        "\n",
        "*   Using the *pulls* DataFrame, select all of the pull requests by these two developers and name the resulting DataFrame *by_author*.\n",
        "*   Fill in the *groupby* parameters to count the number of pull requests submitted by each author each year. That is, group by *user* and the year property of *date*.\n",
        "*   Plot *counts_wide* using a bar chart.\n",
        "\n",
        "pandas' *isin* method (<a href=\"https://pandas.pydata.org/pandas-docs/stable/generated/pandas.DataFrame.isin.html\">documentation</a>) will be helpful for bullet one.\n",
        "\n",
        "*DateTime* objects expose the components of a date through their *dt* accessors.\n",
        "\n",
        "*counts* is transformed to a wide format to make plotting the bar chart of pull request count (y-axis) by year (x-axis) by user (legend) easier."
      ],
      "metadata": {
        "id": "Cav0ZirjNfN9"
      }
    },
    {
      "cell_type": "code",
      "source": [
        "# %matplotlib inline\n",
        "\n",
        "# The developers we are interested in\n",
        "authors = ['xeno-by', 'soc']\n",
        "\n",
        "# Get all the developers' pull requests\n",
        "by_author = pulls[pulls['user'].isin(authors)]\n",
        "\n",
        "# Count the number of pull requests submitted each year\n",
        "counts = by_author.groupby(['user', by_author['date'].dt.year]).agg({'pid': 'count'}).reset_index()\n",
        "\n",
        "# Convert the table to a wide format\n",
        "counts_wide = counts.pivot_table(index='date', columns='user', values='pid', fill_value=0)\n",
        "\n",
        "# Plot the results\n",
        "counts_wide.plot(kind='bar')"
      ],
      "metadata": {
        "id": "504JYt_uO9Mz",
        "colab": {
          "base_uri": "https://localhost:8080/",
          "height": 312
        },
        "outputId": "9c3db00c-66b8-4f92-be47-6c7bfa285706"
      },
      "execution_count": null,
      "outputs": [
        {
          "output_type": "execute_result",
          "data": {
            "text/plain": [
              "<matplotlib.axes._subplots.AxesSubplot at 0x7fc11df34700>"
            ]
          },
          "metadata": {},
          "execution_count": 20
        },
        {
          "output_type": "display_data",
          "data": {
            "text/plain": [
              "<Figure size 432x288 with 1 Axes>"
            ],
            "image/png": "[encoded data removed]"
          },
          "metadata": {
            "needs_background": "light"
          }
        }
      ]
    },
    {
      "cell_type": "markdown",
      "source": [
        "Calculate the number of pull requests submitted by a developer to a file each year.\n",
        "\n",
        "*   Select the pull requests submitted by the authors from the *data* DataFrame and name the results *by_author*.\n",
        "*   Select the pull requests from *by_author* that affect the file and name the results *by_file*.\n",
        "*   Transform *grouped* into a wide format using *pivot_table*. Name the results *by_file_wide*.\n",
        "\n",
        "The code required to complete bullet one in this task is the same as the code for bullet one in task 9, except on the *data* DataFrame instead of the *pulls* DataFrame.\n",
        "\n",
        "*by_file* is transformed to a wide format to make plotting the bar chart of pull request count (y-axis) by year (x-axis) by user (legend) easier. The columns for *by_file_wide* are as follows:\n",
        "\n",
        "*   Index column: *date*\n",
        "*   Columns to expand: *user*\n",
        "*   Value columns: *pid*\n",
        "*   Fill value: 0"
      ],
      "metadata": {
        "id": "wLIsfgQCRfSR"
      }
    },
    {
      "cell_type": "code",
      "source": [
        "# Select the pull requests submitted by the authors, from the `data` DataFrame\n",
        "by_author = data[data['user'].isin(authors)]\n",
        "\n",
        "# Select the pull requests that affect the file\n",
        "by_file = by_author[by_author['file']==file]\n",
        "\n",
        "# Group and count the number of PRs done by each user each year\n",
        "grouped = by_file.groupby(['user', by_file['date'].dt.year]).count()['pid'].reset_index()\n",
        "\n",
        "# Transform the data into a wide format\n",
        "by_file_wide = grouped.pivot_table(index='date', columns='user', values='pid', fill_value=0)\n",
        "\n",
        "# Plot the results\n",
        "by_file_wide.plot(kind='bar')"
      ],
      "metadata": {
        "id": "SarrkYJ3Re5i",
        "colab": {
          "base_uri": "https://localhost:8080/",
          "height": 312
        },
        "outputId": "5f6e1da9-3249-4c12-b0ff-eeda3f400365"
      },
      "execution_count": null,
      "outputs": [
        {
          "output_type": "execute_result",
          "data": {
            "text/plain": [
              "<matplotlib.axes._subplots.AxesSubplot at 0x7fc11dd87d90>"
            ]
          },
          "metadata": {},
          "execution_count": 22
        },
        {
          "output_type": "display_data",
          "data": {
            "text/plain": [
              "<Figure size 432x288 with 1 Axes>"
            ],
            "image/png": "[encoded data removed]"
          },
          "metadata": {
            "needs_background": "light"
          }
        }
      ]
    }
  ],
  "metadata": {
    "colab": {
      "provenance": [],
      "mount_file_id": "1OGbxMikaZr5ndLtUVBgFS6Rq0HCiyXJT",
      "authorship_tag": "ABX9TyNKVRoMfxMBiWhhL19sq6ss",
      "include_colab_link": true
    },
    "kernelspec": {
      "display_name": "Python 3",
      "name": "python3"
    },
    "language_info": {
      "name": "python"
    }
  },
  "nbformat": 4,
  "nbformat_minor": 0
}